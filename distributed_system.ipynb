{
  "nbformat": 4,
  "nbformat_minor": 0,
  "metadata": {
    "colab": {
      "provenance": []
    },
    "kernelspec": {
      "name": "python3",
      "display_name": "Python 3"
    },
    "language_info": {
      "name": "python"
    }
  },
  "cells": [
    {
      "cell_type": "code",
      "execution_count": null,
      "metadata": {
        "id": "vfYgM-lPduh9"
      },
      "outputs": [],
      "source": [
        "from multiprocessing import Process, Pipe\n",
        "from os import getpid\n",
        "from datetime import datetime"
      ]
    },
    {
      "cell_type": "code",
      "source": [
        "def local_time(counter):\n",
        "  return ' (LAMPORT_TIME={}, LOCAL_TIME={})'.format(counter,datetime.now())\n",
        "\n",
        "    "
      ],
      "metadata": {
        "id": "uosBox9Ndylt"
      },
      "execution_count": null,
      "outputs": []
    },
    {
      "cell_type": "code",
      "source": [
        "def calc_recv_timestamp(recv_time_stamp, counter):\n",
        "  return max(recv_time_stamp, counter) + 1\n",
        "    "
      ],
      "metadata": {
        "id": "LhTP1GGHd9hm"
      },
      "execution_count": null,
      "outputs": []
    },
    {
      "cell_type": "code",
      "source": [
        "def event(pid, counter):\n",
        "    counter += 1\n",
        "    print('Something happened in {} !'.\\\n",
        "          format(pid) + local_time(counter))\n",
        "    return counter"
      ],
      "metadata": {
        "id": "wbq6iHrFeBzw"
      },
      "execution_count": null,
      "outputs": []
    },
    {
      "cell_type": "code",
      "source": [
        "def send_message(pipe, pid, counter):\n",
        "    counter += 1\n",
        "    pipe.send(('Empty shell', counter))\n",
        "    print('Message sent from ' + str(pid) + local_time(counter))\n",
        "    return counter"
      ],
      "metadata": {
        "id": "_dvc5XAbePYN"
      },
      "execution_count": null,
      "outputs": []
    },
    {
      "cell_type": "code",
      "source": [
        "def recv_message(pipe, pid, counter):\n",
        "    message, timestamp = pipe.recv()\n",
        "    counter = calc_recv_timestamp(timestamp, counter)\n",
        "    print('Message received at ' + str(pid)  + local_time(counter))\n",
        "    return counter"
      ],
      "metadata": {
        "id": "Jsx5FmQleSQr"
      },
      "execution_count": null,
      "outputs": []
    },
    {
      "cell_type": "code",
      "source": [
        "def process_one(pipe12):\n",
        "    pid = getpid()\n",
        "    counter = 0\n",
        "    counter = event(pid, counter)\n",
        "    counter = send_message(pipe12, pid, counter)\n",
        "    counter  = event(pid, counter)\n",
        "    counter = recv_message(pipe12, pid, counter)\n",
        "    counter  = event(pid, counter)\n",
        "\n",
        "def process_two(pipe21, pipe23):\n",
        "    pid = getpid()\n",
        "    counter = 0\n",
        "    counter = recv_message(pipe21, pid, counter)\n",
        "    counter = send_message(pipe21, pid, counter)\n",
        "    counter = send_message(pipe23, pid, counter)\n",
        "    counter = recv_message(pipe23, pid, counter)\n",
        "\n",
        "\n",
        "def process_three(pipe32):\n",
        "    pid = getpid()\n",
        "    counter = 0\n",
        "    counter = recv_message(pipe32, pid, counter)\n",
        "    counter = send_message(pipe32, pid, counter)"
      ],
      "metadata": {
        "id": "5_L719JueUPm"
      },
      "execution_count": null,
      "outputs": []
    },
    {
      "cell_type": "code",
      "source": [
        "if __name__ == '__main__':\n",
        "    oneandtwo, twoandone = Pipe()\n",
        "    twoandthree, threeandtwo = Pipe()\n",
        "\n",
        "    process1 = Process(target=process_one, \n",
        "                       args=(oneandtwo,))\n",
        "    process2 = Process(target=process_two, \n",
        "                       args=(twoandone, twoandthree))\n",
        "    process3 = Process(target=process_three, \n",
        "                       args=(threeandtwo,))\n",
        "\n",
        "    process1.start()\n",
        "    process2.start()\n",
        "    process3.start()\n",
        "\n",
        "    process1.join()\n",
        "    process2.join()\n",
        "    process3.join()"
      ],
      "metadata": {
        "colab": {
          "base_uri": "https://localhost:8080/"
        },
        "id": "S-DhZvY7eYtB",
        "outputId": "38282985-9647-4dcd-c628-62229e3e70c4"
      },
      "execution_count": null,
      "outputs": [
        {
          "output_type": "stream",
          "name": "stdout",
          "text": [
            "Something happened in 910 ! (LAMPORT_TIME=1, LOCAL_TIME=2023-01-31 10:58:01.297914)\n",
            "Message received at 913 (LAMPORT_TIME=3, LOCAL_TIME=2023-01-31 10:58:01.309741)Message sent from 910 (LAMPORT_TIME=2, LOCAL_TIME=2023-01-31 10:58:01.308846)\n",
            "\n",
            "Message sent from 913 (LAMPORT_TIME=4, LOCAL_TIME=2023-01-31 10:58:01.333026)Something happened in 910 ! (LAMPORT_TIME=3, LOCAL_TIME=2023-01-31 10:58:01.328395)\n",
            "Message received at 918 (LAMPORT_TIME=6, LOCAL_TIME=2023-01-31 10:58:01.338362)Message sent from 913 (LAMPORT_TIME=5, LOCAL_TIME=2023-01-31 10:58:01.338004)\n",
            "\n",
            "Message received at 910 (LAMPORT_TIME=5, LOCAL_TIME=2023-01-31 10:58:01.347137)\n",
            "\n",
            "Something happened in 910 ! (LAMPORT_TIME=6, LOCAL_TIME=2023-01-31 10:58:01.353812)\n",
            "Message sent from 918 (LAMPORT_TIME=7, LOCAL_TIME=2023-01-31 10:58:01.365949)Message received at 913 (LAMPORT_TIME=8, LOCAL_TIME=2023-01-31 10:58:01.368845)\n",
            "\n"
          ]
        }
      ]
    },
    {
      "cell_type": "code",
      "source": [],
      "metadata": {
        "id": "4QdcjXSOegE3"
      },
      "execution_count": null,
      "outputs": []
    }
  ]
}